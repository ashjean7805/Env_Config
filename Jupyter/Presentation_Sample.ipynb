{
  "nbformat": 4,
  "nbformat_minor": 0,
  "metadata": {
    "colab": {
      "name": "Presentation_Sample.ipynb",
      "provenance": []
    },
    "kernelspec": {
      "name": "python3",
      "display_name": "Python 3"
    },
    "language_info": {
      "name": "python"
    }
  },
  "cells": [
    {
      "cell_type": "markdown",
      "source": [
        "# Jupyter Demonstration\n",
        "----\n",
        "\n",
        "## Simple Demonstration to use as Slide Show\n",
        "\n",
        "Some sample text to compare\n"
      ],
      "metadata": {
        "id": "lQpmrtL-7NlZ"
      }
    },
    {
      "cell_type": "code",
      "execution_count": null,
      "metadata": {
        "colab": {
          "base_uri": "https://localhost:8080/",
          "height": 265
        },
        "id": "Yk5XAagx7MFp",
        "outputId": "658668f2-1912-4711-8dd8-269b2633ccc5"
      },
      "outputs": [
        {
          "output_type": "display_data",
          "data": {
            "text/plain": [
              "<Figure size 432x288 with 1 Axes>"
            ],
            "image/png": "[encoded data removed]"
          },
          "metadata": {
            "needs_background": "light"
          }
        }
      ],
      "source": [
        "import numpy as np\n",
        "import matplotlib.pyplot as plt\n",
        "\n",
        "np.random.seed(121)             # seed 고정\n",
        "x = np.random.uniform(0,50,100) # 유니폼 분포로 난수 생성\n",
        "np.random.seed(144)\n",
        "y = np.random.uniform(0,30,100)\n",
        "\n",
        "plt.plot(x,y, 'bo')\n",
        "plt.show()"
      ]
    },
    {
      "cell_type": "code",
      "source": [
        ""
      ],
      "metadata": {
        "id": "ptbtZlEN8Rpi"
      },
      "execution_count": null,
      "outputs": []
    },
    {
      "cell_type": "markdown",
      "source": [
        "#Jupyter : View -> Cell Toolbar -> Slideshow\n",
        "----\n",
        "## Slide Type 슬라이드 종류\n",
        "\n",
        "### Slide\n",
        "슬라이드 장표\n",
        "### Sub-Slide\n",
        "전 슬라이드의 하단, 아래 방향키를 눌러서 접근할 수 있음\n",
        "### Notes\n",
        "슬라이드 쇼에는 나타나지 않음\n",
        "\n",
        "### esc \n",
        "발표 도중에 누르면 모든 화면을 볼 수 있음."
      ],
      "metadata": {
        "id": "5_OONZrt9Emt"
      }
    },
    {
      "cell_type": "markdown",
      "source": [
        "# Last command to compile the slide show\n",
        "----\n",
        "## jupyter nbconvert 'Jupyter\\ Slides.ipynb' --to slides --post serve\n",
        "----\n",
        "Note that 'Jupyter\\ Slides.ipynb' is file of the slide show."
      ],
      "metadata": {
        "id": "Iq0PQBOz-Qyn"
      }
    }
  ]
}